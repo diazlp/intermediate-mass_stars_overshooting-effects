{
 "cells": [
  {
   "cell_type": "code",
   "execution_count": 1,
   "id": "b53daac9",
   "metadata": {},
   "outputs": [],
   "source": [
    "#modul-modul yang dibutuhkan\n",
    "import mesa_reader as ms\n",
    "import matplotlib.pyplot as plt"
   ]
  },
  {
   "cell_type": "code",
   "execution_count": 2,
   "id": "c5187216",
   "metadata": {},
   "outputs": [
    {
     "ename": "OSError",
     "evalue": "LOGS_2Msun [NO OV]/trimmed_history.data not found.",
     "output_type": "error",
     "traceback": [
      "\u001b[1;31m---------------------------------------------------------------------------\u001b[0m",
      "\u001b[1;31mOSError\u001b[0m                                   Traceback (most recent call last)",
      "\u001b[1;32m<ipython-input-2-1539cf297bee>\u001b[0m in \u001b[0;36m<module>\u001b[1;34m\u001b[0m\n\u001b[0;32m      1\u001b[0m \u001b[1;31m#variabel untuk bintang bermassa sedang tanpa OV\u001b[0m\u001b[1;33m\u001b[0m\u001b[1;33m\u001b[0m\u001b[1;33m\u001b[0m\u001b[0m\n\u001b[1;32m----> 2\u001b[1;33m \u001b[0mh_2m\u001b[0m \u001b[1;33m=\u001b[0m \u001b[0mms\u001b[0m\u001b[1;33m.\u001b[0m\u001b[0mMesaData\u001b[0m\u001b[1;33m(\u001b[0m\u001b[1;34m'LOGS_2Msun [NO OV]/trimmed_history.data'\u001b[0m\u001b[1;33m)\u001b[0m\u001b[1;33m\u001b[0m\u001b[1;33m\u001b[0m\u001b[0m\n\u001b[0m\u001b[0;32m      3\u001b[0m \u001b[0mh_3m\u001b[0m \u001b[1;33m=\u001b[0m \u001b[0mms\u001b[0m\u001b[1;33m.\u001b[0m\u001b[0mMesaData\u001b[0m\u001b[1;33m(\u001b[0m\u001b[1;34m'LOGS_3Msun [NO OV]/trimmed_history.data'\u001b[0m\u001b[1;33m)\u001b[0m\u001b[1;33m\u001b[0m\u001b[1;33m\u001b[0m\u001b[0m\n\u001b[0;32m      4\u001b[0m \u001b[0mh_4m\u001b[0m \u001b[1;33m=\u001b[0m \u001b[0mms\u001b[0m\u001b[1;33m.\u001b[0m\u001b[0mMesaData\u001b[0m\u001b[1;33m(\u001b[0m\u001b[1;34m'LOGS_4Msun [NO OV]/trimmed_history.data'\u001b[0m\u001b[1;33m)\u001b[0m\u001b[1;33m\u001b[0m\u001b[1;33m\u001b[0m\u001b[0m\n\u001b[0;32m      5\u001b[0m \u001b[0mh_5m\u001b[0m \u001b[1;33m=\u001b[0m \u001b[0mms\u001b[0m\u001b[1;33m.\u001b[0m\u001b[0mMesaData\u001b[0m\u001b[1;33m(\u001b[0m\u001b[1;34m'LOGS_5Msun [NO OV]/trimmed_history.data'\u001b[0m\u001b[1;33m)\u001b[0m\u001b[1;33m\u001b[0m\u001b[1;33m\u001b[0m\u001b[0m\n",
      "\u001b[1;32m~\\anaconda3\\lib\\site-packages\\mesa_reader\\__init__.py\u001b[0m in \u001b[0;36m__init__\u001b[1;34m(self, file_name, file_type)\u001b[0m\n\u001b[0;32m    119\u001b[0m         \u001b[0mself\u001b[0m\u001b[1;33m.\u001b[0m\u001b[0mheader_data\u001b[0m \u001b[1;33m=\u001b[0m \u001b[1;32mNone\u001b[0m\u001b[1;33m\u001b[0m\u001b[1;33m\u001b[0m\u001b[0m\n\u001b[0;32m    120\u001b[0m         \u001b[0mself\u001b[0m\u001b[1;33m.\u001b[0m\u001b[0mheader_names\u001b[0m \u001b[1;33m=\u001b[0m \u001b[1;32mNone\u001b[0m\u001b[1;33m\u001b[0m\u001b[1;33m\u001b[0m\u001b[0m\n\u001b[1;32m--> 121\u001b[1;33m         \u001b[0mself\u001b[0m\u001b[1;33m.\u001b[0m\u001b[0mread_data\u001b[0m\u001b[1;33m(\u001b[0m\u001b[1;33m)\u001b[0m\u001b[1;33m\u001b[0m\u001b[1;33m\u001b[0m\u001b[0m\n\u001b[0m\u001b[0;32m    122\u001b[0m \u001b[1;33m\u001b[0m\u001b[0m\n\u001b[0;32m    123\u001b[0m     \u001b[1;32mdef\u001b[0m \u001b[0m__lt__\u001b[0m\u001b[1;33m(\u001b[0m\u001b[0mself\u001b[0m\u001b[1;33m,\u001b[0m \u001b[0mother\u001b[0m\u001b[1;33m)\u001b[0m\u001b[1;33m:\u001b[0m\u001b[1;33m\u001b[0m\u001b[1;33m\u001b[0m\u001b[0m\n",
      "\u001b[1;32m~\\anaconda3\\lib\\site-packages\\mesa_reader\\__init__.py\u001b[0m in \u001b[0;36mread_data\u001b[1;34m(self)\u001b[0m\n\u001b[0;32m    167\u001b[0m             \u001b[0mself\u001b[0m\u001b[1;33m.\u001b[0m\u001b[0mread_model_data\u001b[0m\u001b[1;33m(\u001b[0m\u001b[1;33m)\u001b[0m\u001b[1;33m\u001b[0m\u001b[1;33m\u001b[0m\u001b[0m\n\u001b[0;32m    168\u001b[0m         \u001b[1;32melif\u001b[0m \u001b[0mself\u001b[0m\u001b[1;33m.\u001b[0m\u001b[0mfile_type\u001b[0m \u001b[1;33m==\u001b[0m \u001b[1;34m'log'\u001b[0m\u001b[1;33m:\u001b[0m\u001b[1;33m\u001b[0m\u001b[1;33m\u001b[0m\u001b[0m\n\u001b[1;32m--> 169\u001b[1;33m             \u001b[0mself\u001b[0m\u001b[1;33m.\u001b[0m\u001b[0mread_log_data\u001b[0m\u001b[1;33m(\u001b[0m\u001b[1;33m)\u001b[0m\u001b[1;33m\u001b[0m\u001b[1;33m\u001b[0m\u001b[0m\n\u001b[0m\u001b[0;32m    170\u001b[0m         \u001b[1;32melse\u001b[0m\u001b[1;33m:\u001b[0m\u001b[1;33m\u001b[0m\u001b[1;33m\u001b[0m\u001b[0m\n\u001b[0;32m    171\u001b[0m             raise UnknownFileTypeError(\"Unknown file type {}\".format(\n",
      "\u001b[1;32m~\\anaconda3\\lib\\site-packages\\mesa_reader\\__init__.py\u001b[0m in \u001b[0;36mread_log_data\u001b[1;34m(self)\u001b[0m\n\u001b[0;32m    184\u001b[0m         \u001b[1;32mNone\u001b[0m\u001b[1;33m\u001b[0m\u001b[1;33m\u001b[0m\u001b[0m\n\u001b[0;32m    185\u001b[0m         \"\"\"\n\u001b[1;32m--> 186\u001b[1;33m         self.bulk_data = np.genfromtxt(\n\u001b[0m\u001b[0;32m    187\u001b[0m             \u001b[0mself\u001b[0m\u001b[1;33m.\u001b[0m\u001b[0mfile_name\u001b[0m\u001b[1;33m,\u001b[0m \u001b[0mskip_header\u001b[0m\u001b[1;33m=\u001b[0m\u001b[0mMesaData\u001b[0m\u001b[1;33m.\u001b[0m\u001b[0mbulk_names_line\u001b[0m \u001b[1;33m-\u001b[0m \u001b[1;36m1\u001b[0m\u001b[1;33m,\u001b[0m\u001b[1;33m\u001b[0m\u001b[1;33m\u001b[0m\u001b[0m\n\u001b[0;32m    188\u001b[0m             names=True, dtype=None)\n",
      "\u001b[1;32m~\\anaconda3\\lib\\site-packages\\numpy\\lib\\npyio.py\u001b[0m in \u001b[0;36mgenfromtxt\u001b[1;34m(fname, dtype, comments, delimiter, skip_header, skip_footer, converters, missing_values, filling_values, usecols, names, excludelist, deletechars, replace_space, autostrip, case_sensitive, defaultfmt, unpack, usemask, loose, invalid_raise, max_rows, encoding, like)\u001b[0m\n\u001b[0;32m   1789\u001b[0m             \u001b[0mfname\u001b[0m \u001b[1;33m=\u001b[0m \u001b[0mos_fspath\u001b[0m\u001b[1;33m(\u001b[0m\u001b[0mfname\u001b[0m\u001b[1;33m)\u001b[0m\u001b[1;33m\u001b[0m\u001b[1;33m\u001b[0m\u001b[0m\n\u001b[0;32m   1790\u001b[0m         \u001b[1;32mif\u001b[0m \u001b[0misinstance\u001b[0m\u001b[1;33m(\u001b[0m\u001b[0mfname\u001b[0m\u001b[1;33m,\u001b[0m \u001b[0mstr\u001b[0m\u001b[1;33m)\u001b[0m\u001b[1;33m:\u001b[0m\u001b[1;33m\u001b[0m\u001b[1;33m\u001b[0m\u001b[0m\n\u001b[1;32m-> 1791\u001b[1;33m             \u001b[0mfid\u001b[0m \u001b[1;33m=\u001b[0m \u001b[0mnp\u001b[0m\u001b[1;33m.\u001b[0m\u001b[0mlib\u001b[0m\u001b[1;33m.\u001b[0m\u001b[0m_datasource\u001b[0m\u001b[1;33m.\u001b[0m\u001b[0mopen\u001b[0m\u001b[1;33m(\u001b[0m\u001b[0mfname\u001b[0m\u001b[1;33m,\u001b[0m \u001b[1;34m'rt'\u001b[0m\u001b[1;33m,\u001b[0m \u001b[0mencoding\u001b[0m\u001b[1;33m=\u001b[0m\u001b[0mencoding\u001b[0m\u001b[1;33m)\u001b[0m\u001b[1;33m\u001b[0m\u001b[1;33m\u001b[0m\u001b[0m\n\u001b[0m\u001b[0;32m   1792\u001b[0m             \u001b[0mfid_ctx\u001b[0m \u001b[1;33m=\u001b[0m \u001b[0mcontextlib\u001b[0m\u001b[1;33m.\u001b[0m\u001b[0mclosing\u001b[0m\u001b[1;33m(\u001b[0m\u001b[0mfid\u001b[0m\u001b[1;33m)\u001b[0m\u001b[1;33m\u001b[0m\u001b[1;33m\u001b[0m\u001b[0m\n\u001b[0;32m   1793\u001b[0m         \u001b[1;32melse\u001b[0m\u001b[1;33m:\u001b[0m\u001b[1;33m\u001b[0m\u001b[1;33m\u001b[0m\u001b[0m\n",
      "\u001b[1;32m~\\anaconda3\\lib\\site-packages\\numpy\\lib\\_datasource.py\u001b[0m in \u001b[0;36mopen\u001b[1;34m(path, mode, destpath, encoding, newline)\u001b[0m\n\u001b[0;32m    192\u001b[0m \u001b[1;33m\u001b[0m\u001b[0m\n\u001b[0;32m    193\u001b[0m     \u001b[0mds\u001b[0m \u001b[1;33m=\u001b[0m \u001b[0mDataSource\u001b[0m\u001b[1;33m(\u001b[0m\u001b[0mdestpath\u001b[0m\u001b[1;33m)\u001b[0m\u001b[1;33m\u001b[0m\u001b[1;33m\u001b[0m\u001b[0m\n\u001b[1;32m--> 194\u001b[1;33m     \u001b[1;32mreturn\u001b[0m \u001b[0mds\u001b[0m\u001b[1;33m.\u001b[0m\u001b[0mopen\u001b[0m\u001b[1;33m(\u001b[0m\u001b[0mpath\u001b[0m\u001b[1;33m,\u001b[0m \u001b[0mmode\u001b[0m\u001b[1;33m,\u001b[0m \u001b[0mencoding\u001b[0m\u001b[1;33m=\u001b[0m\u001b[0mencoding\u001b[0m\u001b[1;33m,\u001b[0m \u001b[0mnewline\u001b[0m\u001b[1;33m=\u001b[0m\u001b[0mnewline\u001b[0m\u001b[1;33m)\u001b[0m\u001b[1;33m\u001b[0m\u001b[1;33m\u001b[0m\u001b[0m\n\u001b[0m\u001b[0;32m    195\u001b[0m \u001b[1;33m\u001b[0m\u001b[0m\n\u001b[0;32m    196\u001b[0m \u001b[1;33m\u001b[0m\u001b[0m\n",
      "\u001b[1;32m~\\anaconda3\\lib\\site-packages\\numpy\\lib\\_datasource.py\u001b[0m in \u001b[0;36mopen\u001b[1;34m(self, path, mode, encoding, newline)\u001b[0m\n\u001b[0;32m    529\u001b[0m                                       encoding=encoding, newline=newline)\n\u001b[0;32m    530\u001b[0m         \u001b[1;32melse\u001b[0m\u001b[1;33m:\u001b[0m\u001b[1;33m\u001b[0m\u001b[1;33m\u001b[0m\u001b[0m\n\u001b[1;32m--> 531\u001b[1;33m             \u001b[1;32mraise\u001b[0m \u001b[0mIOError\u001b[0m\u001b[1;33m(\u001b[0m\u001b[1;34m\"%s not found.\"\u001b[0m \u001b[1;33m%\u001b[0m \u001b[0mpath\u001b[0m\u001b[1;33m)\u001b[0m\u001b[1;33m\u001b[0m\u001b[1;33m\u001b[0m\u001b[0m\n\u001b[0m\u001b[0;32m    532\u001b[0m \u001b[1;33m\u001b[0m\u001b[0m\n\u001b[0;32m    533\u001b[0m \u001b[1;33m\u001b[0m\u001b[0m\n",
      "\u001b[1;31mOSError\u001b[0m: LOGS_2Msun [NO OV]/trimmed_history.data not found."
     ]
    }
   ],
   "source": [
    "#variabel untuk bintang bermassa sedang tanpa OV\n",
    "h_2m = ms.MesaData('../LOGS/NOOV STARS/2Msun(NOOV)/trimmed_history.data')\n",
    "h_3m = ms.MesaData('../LOGS/NOOV STARS/3Msun(NOOV)/trimmed_history.data')\n",
    "h_4m = ms.MesaData('../LOGS/NOOV STARS/4Msun(NOOV)/trimmed_history.data')\n",
    "h_5m = ms.MesaData('../LOGS/NOOV STARS/5Msun(NOOV)/trimmed_history.data')\n",
    "h_6m = ms.MesaData('../LOGS/NOOV STARS/6Msun(NOOV)/trimmed_history.data')\n",
    "h_7m = ms.MesaData('../LOGS/NOOV STARS/7Msun(NOOV)/trimmed_history.data')\n",
    "h_8m = ms.MesaData('../LOGS/NOOV STARS/8Msun(NOOV)/trimmed_history.data')\n",
    "\n",
    "\n",
    "#variabel untuk bintang bermassa sedang dengan OV\n",
    "h_2m_OV = ms.MesaData('../LOGS/OV STARS/2Msun(OV)/trimmed_history.data')\n",
    "h_3m_OV = ms.MesaData('../LOGS/OV STARS/3Msun(OV)/trimmed_history.data')\n",
    "h_4m_OV = ms.MesaData('../LOGS/OV STARS/4Msun(OV)/trimmed_history.data')\n",
    "h_5m_OV = ms.MesaData('../LOGS/OV STARS/5Msun(OV)/trimmed_history.data')\n",
    "h_6m_OV = ms.MesaData('../LOGS/OV STARS/6Msun(OV)/trimmed_history.data')\n",
    "h_7m_OV = ms.MesaData('../LOGS/OV STARS/7Msun(OV)/trimmed_history.data')\n",
    "h_8m_OV = ms.MesaData('../LOGS/OV STARS/8Msun(OV)/trimmed_history.data')"
   ]
  },
  {
   "cell_type": "code",
   "execution_count": null,
   "id": "ce9f3633",
   "metadata": {},
   "outputs": [],
   "source": [
    "#Grafik Siklus Denyutan Termal untuk beragam massa bintang pada fase TP-AGB\n",
    "\n",
    "#list untuk menampung data mulai dari awal fase TP-AGB bintang sampai akhir evolusinya\n",
    "star_age_TP_AGB, log_LHe_TP_AGB, log_LZ_TP_AGB, log_LH_TP_AGB = [], [], [], []\n",
    "\n",
    "\n",
    "def TP_AGB_graph(var, conditions):\n",
    "    ask_mass = input('star mass: ')\n",
    "    ask_LZ = input('show carbon core burning? Y/N: ')\n",
    "    ask_LH = input('show hydrogen shell burning? Y/N: ')\n",
    "\n",
    "\n",
    "    for i in range(1, len(var.star_age)):\n",
    "        if(var.data('log_L')[i]>conditions):\n",
    "            star_age_TP_AGB.append(var.data_at_model_number('star_age',i))\n",
    "            log_LHe_TP_AGB.append(var.data_at_model_number('log_LHe',i))\n",
    "            \n",
    "            if((ask_LZ.upper() == 'Y') & (ask_LH.upper() == 'Y')):\n",
    "                log_LH_TP_AGB.append(var.data_at_model_number('log_LH',i))\n",
    "                log_LZ_TP_AGB.append(var.data_at_model_number('log_LZ',i))\n",
    "            elif((ask_LZ.upper() == 'Y') & (ask_LH.upper() == 'N')):\n",
    "                log_LZ_TP_AGB.append(var.data_at_model_number('log_LZ',i))\n",
    "            elif((ask_LH.upper() == 'Y') & (ask_LZ.upper() == 'N')):\n",
    "                log_LH_TP_AGB.append(var.data_at_model_number('log_LH',i))\n",
    "            continue\n",
    "                    \n",
    "        \n",
    "    plt.title(f'Grafik TP-AGB Bintang $\\itOV$ {ask_mass}$M_\\odot$ ')    \n",
    "    plt.locator_params(nbins=4)\n",
    "    plt.xlabel('Umur Bintang')\n",
    "    plt.ylabel(r'$\\log\\,L_{He}//L_\\odot$')\n",
    "    plt.ticklabel_format(style='sci', axis='x', scilimits=(0,0))\n",
    "    plt.plot(star_age_TP_AGB, log_LHe_TP_AGB, c='black', label=r'$\\itHe$-$\\itShell$ $\\itBurning$')\n",
    "    try:       \n",
    "        plt.plot(star_age_TP_AGB, log_LZ_TP_AGB, c='black', linestyle='dashed', label='$\\itC$-$\\itCore$ $\\itBurning$ ')\n",
    "        plt.legend()\n",
    "    except:\n",
    "        pass\n",
    "    try:\n",
    "        plt.plot(star_age_TP_AGB, log_LH_TP_AGB, c='black', linestyle='dashdot', label=r'$\\itH$-$\\itShell$ $\\itBurning$')\n",
    "        plt.legend()\n",
    "    except:\n",
    "        pass\n",
    "    plt.show()\n",
    "\n",
    "\n",
    "#######################################\n",
    "##LIST CONDITIONS BUKAN UNTUK DIOLAH###\n",
    "#######################################\n",
    "\n",
    "#indeks 0 untuk bintang NOOV bermassa 2, indeks 1 bermassa 3, dst...\n",
    "#####conditions = [3.3, 3.48, 3.9, 4.3, 4.33, 4.2, 4.3]    \n",
    "\n",
    "\n",
    "#indeks 0 untuk bintang OV bermassa 2, indeks 1 bermassa 3, dst...\n",
    "#####conditions_OV = [3.3, 3.6, 4.17, 4.3, 4.33, 4.2, 4.3]  \n",
    "\n",
    "#parameter: variable tanpa OV, conditions untuk luminositas\n",
    "TP_AGB_graph(h_3, 3.48) #memanggil fungsi"
   ]
  }
 ],
 "metadata": {
  "kernelspec": {
   "display_name": "Python 3",
   "language": "python",
   "name": "python3"
  },
  "language_info": {
   "codemirror_mode": {
    "name": "ipython",
    "version": 3
   },
   "file_extension": ".py",
   "mimetype": "text/x-python",
   "name": "python",
   "nbconvert_exporter": "python",
   "pygments_lexer": "ipython3",
   "version": "3.8.8"
  }
 },
 "nbformat": 4,
 "nbformat_minor": 5
}
